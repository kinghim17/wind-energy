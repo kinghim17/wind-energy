{
  "nbformat": 4,
  "nbformat_minor": 0,
  "metadata": {
    "colab": {
      "provenance": [],
      "include_colab_link": true
    },
    "kernelspec": {
      "name": "python3",
      "display_name": "Python 3"
    }
  },
  "cells": [
    {
      "cell_type": "markdown",
      "metadata": {
        "id": "view-in-github",
        "colab_type": "text"
      },
      "source": [
        "<a href=\"https://colab.research.google.com/github/kinghim17/wind-energy/blob/main/Copy_of_Artificial_Neural_Network.ipynb\" target=\"_parent\"><img src=\"https://colab.research.google.com/assets/colab-badge.svg\" alt=\"Open In Colab\"/></a>"
      ]
    },
    {
      "cell_type": "markdown",
      "metadata": {
        "id": "3cbb7fRy-eyr"
      },
      "source": [
        "# Artificial Neural Network"
      ]
    },
    {
      "cell_type": "markdown",
      "metadata": {
        "id": "8sNDnxE2-pwE"
      },
      "source": [
        "### Importing the libraries"
      ]
    },
    {
      "cell_type": "code",
      "metadata": {
        "id": "lxChR1Rk-umf"
      },
      "source": [
        "import numpy as np\n",
        "import pandas as pd\n",
        "import tensorflow as tf"
      ],
      "execution_count": 16,
      "outputs": []
    },
    {
      "cell_type": "code",
      "metadata": {
        "id": "uBTqR3nacj0e",
        "colab": {
          "base_uri": "https://localhost:8080/",
          "height": 35
        },
        "outputId": "64104b2b-25d3-4e1e-f1fa-ee2423ed4878"
      },
      "source": [
        "tf.__version__"
      ],
      "execution_count": 17,
      "outputs": [
        {
          "output_type": "execute_result",
          "data": {
            "text/plain": [
              "'2.15.0'"
            ],
            "application/vnd.google.colaboratory.intrinsic+json": {
              "type": "string"
            }
          },
          "metadata": {},
          "execution_count": 17
        }
      ]
    },
    {
      "cell_type": "markdown",
      "metadata": {
        "id": "AG3FQEch-yuA"
      },
      "source": [
        "## Part 1 - Data Preprocessing"
      ]
    },
    {
      "cell_type": "markdown",
      "metadata": {
        "id": "-4zq8Mza_D9O"
      },
      "source": [
        "### Importing the dataset"
      ]
    },
    {
      "cell_type": "code",
      "metadata": {
        "id": "B9CV13Co_HHM"
      },
      "source": [
        "dataset = pd.read_csv('T1.csv')\n",
        "X = dataset.iloc[:, 2:5].values\n",
        "y = dataset.iloc[:, 1].values\n",
        ""
      ],
      "execution_count": 18,
      "outputs": []
    },
    {
      "cell_type": "code",
      "source": [
        "print(X)"
      ],
      "metadata": {
        "colab": {
          "base_uri": "https://localhost:8080/"
        },
        "id": "ClsJ-g3UcWkD",
        "outputId": "7aac6b08-fac1-44a8-92eb-241388b1ca50"
      },
      "execution_count": 4,
      "outputs": [
        {
          "output_type": "stream",
          "name": "stdout",
          "text": [
            "[[  14.96   41.76 1024.07   73.17]\n",
            " [  25.18   62.96 1020.04   59.08]\n",
            " [   5.11   39.4  1012.16   92.14]\n",
            " ...\n",
            " [  31.32   74.33 1012.92   36.48]\n",
            " [  24.48   69.45 1013.86   62.39]\n",
            " [  21.6    62.52 1017.23   67.87]]\n"
          ]
        }
      ]
    },
    {
      "cell_type": "code",
      "source": [
        "print(y)"
      ],
      "metadata": {
        "colab": {
          "base_uri": "https://localhost:8080/"
        },
        "id": "BhRvQU1FcXAn",
        "outputId": "ea2b7508-c443-46de-fa51-7f111dd85ff7"
      },
      "execution_count": 19,
      "outputs": [
        {
          "output_type": "stream",
          "name": "stdout",
          "text": [
            "[ 380.05  453.77  306.38 ... 2201.11 2515.69 2820.47]\n"
          ]
        }
      ]
    },
    {
      "cell_type": "markdown",
      "metadata": {
        "id": "VC6omXel_Up0"
      },
      "source": [
        "### Splitting the dataset into the Training set and Test set"
      ]
    },
    {
      "cell_type": "code",
      "metadata": {
        "id": "L5edeb2r_agx"
      },
      "source": [
        "from sklearn.model_selection import train_test_split\n",
        "X_train, X_test, y_train, y_test = train_test_split(X, y, test_size = 0.2, random_state = 0)"
      ],
      "execution_count": 20,
      "outputs": []
    },
    {
      "cell_type": "markdown",
      "metadata": {
        "id": "_mSLlAT9_eyI"
      },
      "source": [
        "## Part 2 - Building the ANN"
      ]
    },
    {
      "cell_type": "markdown",
      "metadata": {
        "id": "CsBULd_f_wLY"
      },
      "source": [
        "### Initializing the ANN"
      ]
    },
    {
      "cell_type": "code",
      "metadata": {
        "id": "J6Hd97Ls__Nz"
      },
      "source": [
        "ann = tf.keras.models.Sequential()"
      ],
      "execution_count": 21,
      "outputs": []
    },
    {
      "cell_type": "markdown",
      "metadata": {
        "id": "iitAFJS_ABUn"
      },
      "source": [
        "### Adding the input layer and the first hidden layer"
      ]
    },
    {
      "cell_type": "code",
      "metadata": {
        "id": "ksO_Vv40AHix"
      },
      "source": [
        "ann.add(tf.keras.layers.Dense(units=6, activation='relu'))"
      ],
      "execution_count": 22,
      "outputs": []
    },
    {
      "cell_type": "markdown",
      "metadata": {
        "id": "-lb4kK_wAKbs"
      },
      "source": [
        "### Adding the second hidden layer"
      ]
    },
    {
      "cell_type": "code",
      "metadata": {
        "id": "c2357OqEAQOQ"
      },
      "source": [
        "ann.add(tf.keras.layers.Dense(units=6, activation='relu'))"
      ],
      "execution_count": 23,
      "outputs": []
    },
    {
      "cell_type": "markdown",
      "metadata": {
        "id": "jwMOmKb3AdBY"
      },
      "source": [
        "### Adding the output layer"
      ]
    },
    {
      "cell_type": "code",
      "metadata": {
        "id": "YFATpzsUAkLL"
      },
      "source": [
        "ann.add(tf.keras.layers.Dense(units=1))"
      ],
      "execution_count": 24,
      "outputs": []
    },
    {
      "cell_type": "markdown",
      "metadata": {
        "id": "fq7e4fF6A1yy"
      },
      "source": [
        "## Part 3 - Training the ANN"
      ]
    },
    {
      "cell_type": "markdown",
      "metadata": {
        "id": "qDeylAs2An25"
      },
      "source": [
        "### Compiling the ANN"
      ]
    },
    {
      "cell_type": "code",
      "metadata": {
        "id": "pesgbWlCAtB4"
      },
      "source": [
        "ann.compile(optimizer = 'adam', loss = 'mean_squared_error')"
      ],
      "execution_count": 25,
      "outputs": []
    },
    {
      "cell_type": "markdown",
      "metadata": {
        "id": "YjVuiybYOo7r"
      },
      "source": [
        "### Training the ANN model on the Training set"
      ]
    },
    {
      "cell_type": "code",
      "metadata": {
        "id": "c_vV-tiiA5zn",
        "colab": {
          "base_uri": "https://localhost:8080/"
        },
        "outputId": "882a3673-f572-42b3-c894-414ba5543956"
      },
      "source": [
        "ann.fit(X_train, y_train, batch_size = 32, epochs = 100)"
      ],
      "execution_count": 26,
      "outputs": [
        {
          "output_type": "stream",
          "name": "stdout",
          "text": [
            "Epoch 1/100\n",
            "1264/1264 [==============================] - 5s 3ms/step - loss: 1093219.0000\n",
            "Epoch 2/100\n",
            "1264/1264 [==============================] - 4s 3ms/step - loss: 169277.6250\n",
            "Epoch 3/100\n",
            "1264/1264 [==============================] - 3s 2ms/step - loss: 169069.1406\n",
            "Epoch 4/100\n",
            "1264/1264 [==============================] - 3s 2ms/step - loss: 168770.9375\n",
            "Epoch 5/100\n",
            "1264/1264 [==============================] - 3s 2ms/step - loss: 168661.6094\n",
            "Epoch 6/100\n",
            "1264/1264 [==============================] - 3s 3ms/step - loss: 167949.8906\n",
            "Epoch 7/100\n",
            "1264/1264 [==============================] - 4s 3ms/step - loss: 167331.8906\n",
            "Epoch 8/100\n",
            "1264/1264 [==============================] - 3s 2ms/step - loss: 166463.9062\n",
            "Epoch 9/100\n",
            "1264/1264 [==============================] - 3s 2ms/step - loss: 165804.0312\n",
            "Epoch 10/100\n",
            "1264/1264 [==============================] - 3s 3ms/step - loss: 165396.6562\n",
            "Epoch 11/100\n",
            "1264/1264 [==============================] - 4s 3ms/step - loss: 165275.0625\n",
            "Epoch 12/100\n",
            "1264/1264 [==============================] - 3s 2ms/step - loss: 164875.8906\n",
            "Epoch 13/100\n",
            "1264/1264 [==============================] - 3s 2ms/step - loss: 164788.6094\n",
            "Epoch 14/100\n",
            "1264/1264 [==============================] - 3s 3ms/step - loss: 164912.7344\n",
            "Epoch 15/100\n",
            "1264/1264 [==============================] - 4s 3ms/step - loss: 164748.0781\n",
            "Epoch 16/100\n",
            "1264/1264 [==============================] - 3s 3ms/step - loss: 164795.6250\n",
            "Epoch 17/100\n",
            "1264/1264 [==============================] - 3s 2ms/step - loss: 164258.4062\n",
            "Epoch 18/100\n",
            "1264/1264 [==============================] - 3s 3ms/step - loss: 164352.8594\n",
            "Epoch 19/100\n",
            "1264/1264 [==============================] - 4s 3ms/step - loss: 164302.2188\n",
            "Epoch 20/100\n",
            "1264/1264 [==============================] - 3s 2ms/step - loss: 164259.4219\n",
            "Epoch 21/100\n",
            "1264/1264 [==============================] - 3s 2ms/step - loss: 164449.5938\n",
            "Epoch 22/100\n",
            "1264/1264 [==============================] - 3s 2ms/step - loss: 164416.1250\n",
            "Epoch 23/100\n",
            "1264/1264 [==============================] - 4s 3ms/step - loss: 163870.9531\n",
            "Epoch 24/100\n",
            "1264/1264 [==============================] - 3s 2ms/step - loss: 163887.6406\n",
            "Epoch 25/100\n",
            "1264/1264 [==============================] - 3s 3ms/step - loss: 164012.0469\n",
            "Epoch 26/100\n",
            "1264/1264 [==============================] - 3s 2ms/step - loss: 163526.5000\n",
            "Epoch 27/100\n",
            "1264/1264 [==============================] - 4s 4ms/step - loss: 163593.5938\n",
            "Epoch 28/100\n",
            "1264/1264 [==============================] - 3s 2ms/step - loss: 163422.5938\n",
            "Epoch 29/100\n",
            "1264/1264 [==============================] - 3s 2ms/step - loss: 163153.7500\n",
            "Epoch 30/100\n",
            "1264/1264 [==============================] - 3s 2ms/step - loss: 163194.5156\n",
            "Epoch 31/100\n",
            "1264/1264 [==============================] - 4s 3ms/step - loss: 162988.8438\n",
            "Epoch 32/100\n",
            "1264/1264 [==============================] - 3s 3ms/step - loss: 163036.5938\n",
            "Epoch 33/100\n",
            "1264/1264 [==============================] - 3s 2ms/step - loss: 163210.1875\n",
            "Epoch 34/100\n",
            "1264/1264 [==============================] - 3s 2ms/step - loss: 162839.4688\n",
            "Epoch 35/100\n",
            "1264/1264 [==============================] - 4s 3ms/step - loss: 162845.8594\n",
            "Epoch 36/100\n",
            "1264/1264 [==============================] - 4s 3ms/step - loss: 162875.3594\n",
            "Epoch 37/100\n",
            "1264/1264 [==============================] - 3s 2ms/step - loss: 162781.9531\n",
            "Epoch 38/100\n",
            "1264/1264 [==============================] - 3s 2ms/step - loss: 162834.3750\n",
            "Epoch 39/100\n",
            "1264/1264 [==============================] - 4s 3ms/step - loss: 162806.9219\n",
            "Epoch 40/100\n",
            "1264/1264 [==============================] - 3s 3ms/step - loss: 162562.6250\n",
            "Epoch 41/100\n",
            "1264/1264 [==============================] - 3s 2ms/step - loss: 162309.9844\n",
            "Epoch 42/100\n",
            "1264/1264 [==============================] - 3s 2ms/step - loss: 162466.1719\n",
            "Epoch 43/100\n",
            "1264/1264 [==============================] - 3s 3ms/step - loss: 162326.5938\n",
            "Epoch 44/100\n",
            "1264/1264 [==============================] - 4s 3ms/step - loss: 162306.0312\n",
            "Epoch 45/100\n",
            "1264/1264 [==============================] - 3s 2ms/step - loss: 162286.4062\n",
            "Epoch 46/100\n",
            "1264/1264 [==============================] - 3s 2ms/step - loss: 162142.4688\n",
            "Epoch 47/100\n",
            "1264/1264 [==============================] - 3s 2ms/step - loss: 162174.9531\n",
            "Epoch 48/100\n",
            "1264/1264 [==============================] - 4s 3ms/step - loss: 161905.6094\n",
            "Epoch 49/100\n",
            "1264/1264 [==============================] - 3s 2ms/step - loss: 162150.5312\n",
            "Epoch 50/100\n",
            "1264/1264 [==============================] - 3s 2ms/step - loss: 162105.8750\n",
            "Epoch 51/100\n",
            "1264/1264 [==============================] - 3s 2ms/step - loss: 162030.0625\n",
            "Epoch 52/100\n",
            "1264/1264 [==============================] - 4s 3ms/step - loss: 161944.9688\n",
            "Epoch 53/100\n",
            "1264/1264 [==============================] - 3s 2ms/step - loss: 161974.1094\n",
            "Epoch 54/100\n",
            "1264/1264 [==============================] - 3s 2ms/step - loss: 161779.3281\n",
            "Epoch 55/100\n",
            "1264/1264 [==============================] - 3s 2ms/step - loss: 161463.7344\n",
            "Epoch 56/100\n",
            "1264/1264 [==============================] - 4s 3ms/step - loss: 161557.2812\n",
            "Epoch 57/100\n",
            "1264/1264 [==============================] - 4s 3ms/step - loss: 161563.2812\n",
            "Epoch 58/100\n",
            "1264/1264 [==============================] - 3s 2ms/step - loss: 161651.1406\n",
            "Epoch 59/100\n",
            "1264/1264 [==============================] - 3s 2ms/step - loss: 161598.1875\n",
            "Epoch 60/100\n",
            "1264/1264 [==============================] - 4s 3ms/step - loss: 161440.0000\n",
            "Epoch 61/100\n",
            "1264/1264 [==============================] - 4s 3ms/step - loss: 161344.0938\n",
            "Epoch 62/100\n",
            "1264/1264 [==============================] - 3s 2ms/step - loss: 161548.8125\n",
            "Epoch 63/100\n",
            "1264/1264 [==============================] - 3s 2ms/step - loss: 161465.7500\n",
            "Epoch 64/100\n",
            "1264/1264 [==============================] - 3s 2ms/step - loss: 161262.1094\n",
            "Epoch 65/100\n",
            "1264/1264 [==============================] - 4s 3ms/step - loss: 161575.9062\n",
            "Epoch 66/100\n",
            "1264/1264 [==============================] - 3s 2ms/step - loss: 161221.5625\n",
            "Epoch 67/100\n",
            "1264/1264 [==============================] - 3s 2ms/step - loss: 161221.8906\n",
            "Epoch 68/100\n",
            "1264/1264 [==============================] - 3s 2ms/step - loss: 161091.1406\n",
            "Epoch 69/100\n",
            "1264/1264 [==============================] - 4s 3ms/step - loss: 160815.4375\n",
            "Epoch 70/100\n",
            "1264/1264 [==============================] - 3s 2ms/step - loss: 161253.6719\n",
            "Epoch 71/100\n",
            "1264/1264 [==============================] - 3s 2ms/step - loss: 161096.3594\n",
            "Epoch 72/100\n",
            "1264/1264 [==============================] - 3s 2ms/step - loss: 160990.7344\n",
            "Epoch 73/100\n",
            "1264/1264 [==============================] - 4s 3ms/step - loss: 161181.8281\n",
            "Epoch 74/100\n",
            "1264/1264 [==============================] - 4s 3ms/step - loss: 160969.0625\n",
            "Epoch 75/100\n",
            "1264/1264 [==============================] - 3s 3ms/step - loss: 160691.4844\n",
            "Epoch 76/100\n",
            "1264/1264 [==============================] - 3s 2ms/step - loss: 160762.3438\n",
            "Epoch 77/100\n",
            "1264/1264 [==============================] - 4s 3ms/step - loss: 160834.1875\n",
            "Epoch 78/100\n",
            "1264/1264 [==============================] - 6s 4ms/step - loss: 160837.4844\n",
            "Epoch 79/100\n",
            "1264/1264 [==============================] - 3s 2ms/step - loss: 160719.9375\n",
            "Epoch 80/100\n",
            "1264/1264 [==============================] - 3s 2ms/step - loss: 160878.1719\n",
            "Epoch 81/100\n",
            "1264/1264 [==============================] - 3s 2ms/step - loss: 160574.1094\n",
            "Epoch 82/100\n",
            "1264/1264 [==============================] - 4s 4ms/step - loss: 160611.1406\n",
            "Epoch 83/100\n",
            "1264/1264 [==============================] - 3s 2ms/step - loss: 160590.2031\n",
            "Epoch 84/100\n",
            "1264/1264 [==============================] - 3s 2ms/step - loss: 160524.5625\n",
            "Epoch 85/100\n",
            "1264/1264 [==============================] - 3s 3ms/step - loss: 160611.9375\n",
            "Epoch 86/100\n",
            "1264/1264 [==============================] - 4s 3ms/step - loss: 160720.1562\n",
            "Epoch 87/100\n",
            "1264/1264 [==============================] - 3s 2ms/step - loss: 160519.7188\n",
            "Epoch 88/100\n",
            "1264/1264 [==============================] - 3s 2ms/step - loss: 160356.9062\n",
            "Epoch 89/100\n",
            "1264/1264 [==============================] - 3s 2ms/step - loss: 160514.9062\n",
            "Epoch 90/100\n",
            "1264/1264 [==============================] - 4s 3ms/step - loss: 160598.5781\n",
            "Epoch 91/100\n",
            "1264/1264 [==============================] - 3s 3ms/step - loss: 160528.6875\n",
            "Epoch 92/100\n",
            "1264/1264 [==============================] - 3s 2ms/step - loss: 160368.7969\n",
            "Epoch 93/100\n",
            "1264/1264 [==============================] - 3s 2ms/step - loss: 160491.4688\n",
            "Epoch 94/100\n",
            "1264/1264 [==============================] - 3s 3ms/step - loss: 160384.2344\n",
            "Epoch 95/100\n",
            "1264/1264 [==============================] - 4s 3ms/step - loss: 160372.3125\n",
            "Epoch 96/100\n",
            "1264/1264 [==============================] - 3s 2ms/step - loss: 160178.6094\n",
            "Epoch 97/100\n",
            "1264/1264 [==============================] - 3s 2ms/step - loss: 160033.5781\n",
            "Epoch 98/100\n",
            "1264/1264 [==============================] - 3s 3ms/step - loss: 159812.5156\n",
            "Epoch 99/100\n",
            "1264/1264 [==============================] - 4s 3ms/step - loss: 160259.6719\n",
            "Epoch 100/100\n",
            "1264/1264 [==============================] - 3s 2ms/step - loss: 160161.6719\n"
          ]
        },
        {
          "output_type": "execute_result",
          "data": {
            "text/plain": [
              "<keras.src.callbacks.History at 0x7ed9a75fb370>"
            ]
          },
          "metadata": {},
          "execution_count": 26
        }
      ]
    },
    {
      "cell_type": "markdown",
      "metadata": {
        "id": "0H0zKKNEBLD5"
      },
      "source": [
        "### Predicting the results of the Test set"
      ]
    },
    {
      "cell_type": "code",
      "metadata": {
        "id": "IA0yApEmBG1X",
        "colab": {
          "base_uri": "https://localhost:8080/"
        },
        "outputId": "22ac06df-4561-41f0-8c9d-1137a3e458d3"
      },
      "source": [
        "y_pred = ann.predict(X_test)\n",
        "np.set_printoptions(precision=2)\n",
        "print(np.concatenate((y_pred.reshape(len(y_pred),1), y_test.reshape(len(y_test),1)),1))"
      ],
      "execution_count": 27,
      "outputs": [
        {
          "output_type": "stream",
          "name": "stdout",
          "text": [
            "316/316 [==============================] - 1s 2ms/step\n",
            "[[ 498.37  576.66]\n",
            " [1434.25 1619.3 ]\n",
            " [1418.32 1876.58]\n",
            " ...\n",
            " [ 600.58  667.26]\n",
            " [2997.67 3473.52]\n",
            " [2600.36 2343.06]]\n"
          ]
        }
      ]
    },
    {
      "cell_type": "markdown",
      "source": [
        "### evaluation of the performance"
      ],
      "metadata": {
        "id": "tEoxK1E_g0lc"
      }
    },
    {
      "cell_type": "code",
      "source": [
        "from sklearn.metrics import r2_score\n",
        "r2_score(y_test, y_pred)"
      ],
      "metadata": {
        "colab": {
          "base_uri": "https://localhost:8080/"
        },
        "id": "GeV-nnbmhDv-",
        "outputId": "1663947b-705c-4a6b-f04a-707efd747d45"
      },
      "execution_count": 28,
      "outputs": [
        {
          "output_type": "execute_result",
          "data": {
            "text/plain": [
              "0.907311840392626"
            ]
          },
          "metadata": {},
          "execution_count": 28
        }
      ]
    }
  ]
}